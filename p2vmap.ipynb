{
 "cells": [
  {
   "cell_type": "markdown",
   "metadata": {},
   "source": [
    "# P2V-MAP in PyTorch (and Plotly)\n",
    "\n",
    "This includes the following steps:\n",
    "1. Build a data streamer\n",
    "1. Train the P2V model (`torch`) and visualize the weight matrix using `plotly` (as function of training iterations)\n",
    "1. Implement t-SNE dimensionality reduction using `sklearn` and plot product map using `plotly`"
   ]
  },
  {
   "cell_type": "code",
   "execution_count": 1,
   "metadata": {},
   "outputs": [],
   "source": [
    "import pandas as pd\n",
    "from loguru import logger\n",
    "\n",
    "import p2vmap_lib"
   ]
  },
  {
   "cell_type": "code",
   "execution_count": 2,
   "metadata": {},
   "outputs": [],
   "source": [
    "config = p2vmap_lib.read_yaml(\"p2vmap_config.yaml\")"
   ]
  },
  {
   "cell_type": "code",
   "execution_count": 3,
   "metadata": {},
   "outputs": [
    {
     "name": "stderr",
     "output_type": "stream",
     "text": [
      "2021-10-30 11:57:05.921 | INFO     | __main__:<module>:4 - n_products = 300\n"
     ]
    }
   ],
   "source": [
    "baskets = pd.read_parquet(f\"{config['paths']['data']}/market-baskets.parquet\")\n",
    "products = pd.read_parquet(f\"{config['paths']['data']}/products.parquet\")\n",
    "n_products = products.shape[0]\n",
    "logger.info(f\"n_products = {n_products}\")"
   ]
  },
  {
   "cell_type": "markdown",
   "metadata": {},
   "source": [
    "<br>\n",
    "\n",
    "## Step 1: Build P2V data streamer"
   ]
  },
  {
   "cell_type": "code",
   "execution_count": 4,
   "metadata": {},
   "outputs": [],
   "source": [
    "p2v_data_stream = p2vmap_lib.DataStreamP2V(\n",
    "    data=baskets, **config[\"data\"][\"data_streamer\"]\n",
    ")"
   ]
  },
  {
   "cell_type": "code",
   "execution_count": 5,
   "metadata": {},
   "outputs": [
    {
     "data": {
      "text/plain": [
       "(array([ 51,  51,  51, ..., 164, 174, 174]),\n",
       " array([113, 154, 165, ...,  35, 251, 291]),\n",
       " array([[ 15,  38, 258, ..., 128, 232,  35],\n",
       "        [108, 182, 206, ..., 206, 194,  36],\n",
       "        [217, 288, 114, ..., 177, 188, 108],\n",
       "        ...,\n",
       "        [119, 242, 122, ..., 128,  66, 243],\n",
       "        [275, 150, 258, ...,  90, 215,  41],\n",
       "        [214, 271, 113, ..., 127, 224, 283]], dtype=int32))"
      ]
     },
     "execution_count": 5,
     "metadata": {},
     "output_type": "execute_result"
    }
   ],
   "source": [
    "p2v_data_stream.generate_batch()"
   ]
  },
  {
   "cell_type": "markdown",
   "metadata": {},
   "source": [
    "<br>\n",
    "\n",
    "## Step 2: P2V\n",
    "\n",
    "### Build data loader"
   ]
  },
  {
   "cell_type": "code",
   "execution_count": 6,
   "metadata": {},
   "outputs": [],
   "source": [
    "dl_train, dl_valid = p2vmap_lib.build_data_loader(\n",
    "    streamer=p2v_data_stream,\n",
    "    **config[\"p2v\"][\"data-loader\"],\n",
    ")"
   ]
  },
  {
   "cell_type": "markdown",
   "metadata": {},
   "source": [
    "### Train product vectors"
   ]
  },
  {
   "cell_type": "code",
   "execution_count": 7,
   "metadata": {},
   "outputs": [],
   "source": [
    "p2v_model = p2vmap_lib.P2V(\n",
    "    n_products=n_products,\n",
    "    **config[\"p2v\"][\"model\"],\n",
    ")"
   ]
  },
  {
   "cell_type": "code",
   "execution_count": 8,
   "metadata": {},
   "outputs": [],
   "source": [
    "p2v_trainer = p2vmap_lib.TrainerP2V(\n",
    "    model=p2v_model,\n",
    "    train=dl_train,\n",
    "    validation=dl_valid,\n",
    "    path=config[\"paths\"][\"results\"],\n",
    ")"
   ]
  },
  {
   "cell_type": "code",
   "execution_count": null,
   "metadata": {},
   "outputs": [
    {
     "name": "stdout",
     "output_type": "stream",
     "text": [
      "epoch = 0\n"
     ]
    }
   ],
   "source": [
    "p2v_trainer.fit(**config[\"p2v\"][\"trainer\"])"
   ]
  },
  {
   "cell_type": "markdown",
   "metadata": {
    "tags": []
   },
   "source": [
    "Visualize training loss in tensorboard:\n",
    "```\n",
    "make runtb\n",
    "```\n",
    "\n",
    "### Visualize embedding"
   ]
  },
  {
   "cell_type": "code",
   "execution_count": null,
   "metadata": {},
   "outputs": [],
   "source": [
    "dashboard = p2vmap_lib.DashboardP2V(\n",
    "    path=f\"{config['paths']['results']}/weights\",\n",
    ")"
   ]
  },
  {
   "cell_type": "code",
   "execution_count": null,
   "metadata": {},
   "outputs": [],
   "source": [
    "dashboard.plot_product_embedding(\n",
    "    idx=[0, 2, 4, 6, 7, 8, 9, 10, 11, 12, 13, 14, 15, 20, 40, 70, 80, 100, 150, 200]\n",
    ")"
   ]
  },
  {
   "cell_type": "markdown",
   "metadata": {},
   "source": [
    "<br>\n",
    "\n",
    "## Step 3: t-SNE"
   ]
  },
  {
   "cell_type": "code",
   "execution_count": null,
   "metadata": {},
   "outputs": [],
   "source": [
    "dashboard.plot_tsne_map(products, config[\"tsne\"])"
   ]
  }
 ],
 "metadata": {
  "kernelspec": {
   "display_name": "Python 3 (ipykernel)",
   "language": "python",
   "name": "python3"
  },
  "language_info": {
   "codemirror_mode": {
    "name": "ipython",
    "version": 3
   },
   "file_extension": ".py",
   "mimetype": "text/x-python",
   "name": "python",
   "nbconvert_exporter": "python",
   "pygments_lexer": "ipython3",
   "version": "3.8.2"
  }
 },
 "nbformat": 4,
 "nbformat_minor": 4
}
